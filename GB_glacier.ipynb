{
 "cells": [
  {
   "cell_type": "markdown",
   "id": "e09d1405",
   "metadata": {},
   "source": [
    "# About"
   ]
  },
  {
   "cell_type": "markdown",
   "id": "3dad6e7b",
   "metadata": {},
   "source": [
    "Same as `RF_glacier.ipynb` but uses GradientBoosting algorithm instead"
   ]
  },
  {
   "cell_type": "markdown",
   "id": "fff05d39",
   "metadata": {},
   "source": [
    "# Install dependencies"
   ]
  },
  {
   "cell_type": "code",
   "execution_count": null,
   "id": "853fac18",
   "metadata": {
    "scrolled": true
   },
   "outputs": [],
   "source": [
    "import sys\n",
    "!{sys.executable} -m pip install pillow matplotlib scikit-image scikit-learn"
   ]
  },
  {
   "cell_type": "markdown",
   "id": "4bcd1528",
   "metadata": {},
   "source": [
    "# Load libraries & define paths"
   ]
  },
  {
   "cell_type": "code",
   "execution_count": 1,
   "id": "c1c5c3cc",
   "metadata": {},
   "outputs": [],
   "source": [
    "import numpy as np\n",
    "from skimage.io import imsave, imread\n",
    "from skimage.segmentation import slic\n",
    "from sklearn.ensemble import GradientBoostingClassifier\n",
    "from sklearn.metrics import accuracy_score, confusion_matrix, auc, precision_score, recall_score, f1_score, roc_curve, roc_auc_score\n",
    "import matplotlib.pyplot as plt\n",
    "import cv2 as cv # need to execute \"pip install opencv-python\" in the terminal to install module\n",
    "import numpy as np\n",
    "import os\n",
    "import rasterio\n",
    "from skimage import exposure, filters\n",
    "from skimage.morphology import square\n",
    "from skimage.color import rgb2gray\n",
    "import warnings\n",
    "warnings.filterwarnings('ignore')\n",
    "import pandas as pd\n",
    "import pickle\n",
    "import seaborn as sns"
   ]
  },
  {
   "cell_type": "code",
   "execution_count": 2,
   "id": "50fca5e3",
   "metadata": {},
   "outputs": [],
   "source": [
    "# this is the path to the images from your current folder. To adapt\n",
    "INPUT_DIR = \"data/\""
   ]
  },
  {
   "cell_type": "markdown",
   "id": "afd870d8",
   "metadata": {},
   "source": [
    "# 1. Create train/val/test sets\n",
    "Use same data as that generated for `RF_glacier.ipynb`"
   ]
  },
  {
   "cell_type": "markdown",
   "id": "1c719f05",
   "metadata": {},
   "source": [
    "### Split dataset into train/validation/test\n",
    "\n",
    "Create list of features for each year, with label\\\n",
    "Features are :\n",
    "\n",
    "SPECTRAL\n",
    "- BO2_norm (B)\n",
    "- B03_norm (G)\n",
    "- B04_norm (R)\n",
    "- NDWI\n",
    "- NDSI\n",
    "- SWIR ( 2 bands: B12, B8A)\n",
    "\n",
    "MORPHOLOGICAL\n",
    "- Sobel\n",
    "- Sobel_v\n",
    "- sobel_h\n",
    "- autolovel\n",
    "- entropy\n",
    "- gabor\n",
    "- meijering\n",
    "- hessian"
   ]
  },
  {
   "cell_type": "code",
   "execution_count": 22,
   "id": "54a29766",
   "metadata": {
    "scrolled": false
   },
   "outputs": [
    {
     "name": "stdout",
     "output_type": "stream",
     "text": [
      "2020_2110\n",
      "(895161, 17)\n",
      "Added features and ground truth for that date\n",
      "2018_0407\n",
      "(895161, 17)\n",
      "Added features and ground truth for that date\n",
      "2019_0308\n",
      "(895161, 17)\n",
      "Added features and ground truth for that date\n",
      "2017_0808\n",
      "(895161, 17)\n",
      "Added features and ground truth for that date\n",
      "2020_0609\n",
      "(895161, 17)\n",
      "Added features and ground truth for that date\n",
      "2021_2208\n",
      "(895161, 17)\n",
      "Added features and ground truth for that date\n",
      "2019_2210\n",
      "(895161, 17)\n",
      "Added features and ground truth for that date\n",
      "2018_2907\n",
      "(895161, 17)\n",
      "Added features and ground truth for that date\n"
     ]
    }
   ],
   "source": [
    "# Defining which images will belong to the train, test, and validation sets\n",
    "train_dates = ['2018_0407', '2018_2907', '2019_0308', '2019_2210', '2020_0609', '2020_2110'] \n",
    "#validation_validation = [..]\n",
    "test_dates = ['2017_0808', '2021_2208']\n",
    "\n",
    "\n",
    "# List of features to use --> TO ADAPT: add SWIR\n",
    "feature_list = ['B02_norm.npy', 'B03_norm.npy', 'B04_norm.npy', 'B12_norm.npy', 'B8A_norm.npy', 'NDWI.npy', 'NDSI.npy', \n",
    "                'sobel.npy', 'sobel_v.npy', 'sobel_h.npy', 'autolevel.npy' , 'entropy.npy',\n",
    "                'gabor.npy', 'meijering.npy', 'hessian.npy']\n",
    "\n",
    "col_names = ['B02', 'B03', 'B04', 'B12', 'B8A', 'NDWI', 'NDSI', 'sobel', 'sobel_v', 'sobel_h', \n",
    "                 'autolovel', 'entropy', 'gabor', 'meijering', 'hessian', 'label', 'date']\n",
    "\n",
    "# Initialise feature and gt dataframes\n",
    "df_train = pd.DataFrame(columns=col_names)\n",
    "\n",
    "df_test = pd.DataFrame(columns=col_names)\n",
    "\n",
    "\n",
    "for file in os.listdir(INPUT_DIR):\n",
    "    if file.startswith(\"EO_Browser_images-\"):\n",
    "        CURRENT_PATH = INPUT_DIR + file\n",
    "        \n",
    "        # Extract year and date of current folder\n",
    "        year = file.split(\"EO_Browser_images-\", 1)[1].split(\"_\", 1)[0]\n",
    "        date = file.split(\"EO_Browser_images-\", 1)[1]\n",
    "        \n",
    "        # Initialise a list of features for a certain year\n",
    "        features_of_year = []\n",
    "        \n",
    "        # Train data\n",
    "        if date in train_dates:\n",
    "            print(date)\n",
    "            for feature in feature_list:\n",
    "                PATH_FEATURE = CURRENT_PATH = INPUT_DIR + file + \"/\" + feature\n",
    "                \n",
    "                # Open image and add it to the current year's list of features\n",
    "                feat_img = np.load(PATH_FEATURE)\n",
    "                # Flatten: 1 column per band. Shape nrows x ncols\n",
    "                feat_img = feat_img.flatten() # puts all rows on the same line\n",
    "                features_of_year.append(feat_img.T)\n",
    "\n",
    "            # Find ground truth for that year and append to array\n",
    "            GT_PATH = INPUT_DIR + 'gt/binary_gt_' + date + '.npy'\n",
    "            gt_binary = np.load(GT_PATH)\n",
    "            features_of_year.append(gt_binary.flatten().T)\n",
    "            \n",
    "            # Create array img height x width x (nbr features + 2). The +2 is because the date and label is added\n",
    "            # One img has 895161 pixels\n",
    "            nb_pixels = len(feat_img.flatten())\n",
    "            date_column = np.repeat(date, nb_pixels)\n",
    "            features_of_year.append(date_column)\n",
    "            features_label_array = np.array(features_of_year).T\n",
    "            print(features_label_array.shape)\n",
    "            \n",
    "            # Add to dataframe\n",
    "            df_train = df_train.append(pd.DataFrame(features_label_array, columns=col_names))\n",
    "            \n",
    "            print(\"Added features and ground truth for that date\")\n",
    "        \n",
    "        \n",
    "        \n",
    "        # Test data\n",
    "        if date in test_dates:\n",
    "            print(date)\n",
    "            for feature in feature_list:\n",
    "                PATH_FEATURE = CURRENT_PATH = INPUT_DIR + file + \"/\" + feature\n",
    "                \n",
    "               ## Open image and add it to the current year's list of features\n",
    "                feat_img = np.load(PATH_FEATURE)\n",
    "                # Flatten: 1 column per band. Shape nrows x ncols\n",
    "                feat_img = feat_img.flatten() # puts all rows on the same line\n",
    "                features_of_year.append(feat_img.T)\n",
    "\n",
    "            # Find ground truth for that year and append to array\n",
    "            GT_PATH = INPUT_DIR + 'gt/binary_gt_' + date + '.npy'\n",
    "            gt_binary = np.load(GT_PATH)\n",
    "            features_of_year.append(gt_binary.flatten().T)\n",
    "            \n",
    "            # Create array img height x width x 17\n",
    "            # One img has 895161 pixels\n",
    "            nb_pixels = len(feat_img.flatten())\n",
    "            date_column = np.repeat(date, nb_pixels)\n",
    "            features_of_year.append(date_column)\n",
    "            features_label_array = np.array(features_of_year).T\n",
    "            print(features_label_array.shape)\n",
    "            \n",
    "            # Add to dataframe\n",
    "            df_test = df_test.append(pd.DataFrame(features_label_array, columns=col_names))\n",
    "            \n",
    "            print(\"Added features and ground truth for that date\")"
   ]
  },
  {
   "cell_type": "code",
   "execution_count": 23,
   "id": "818357f3",
   "metadata": {},
   "outputs": [
    {
     "data": {
      "text/html": [
       "<div>\n",
       "<style scoped>\n",
       "    .dataframe tbody tr th:only-of-type {\n",
       "        vertical-align: middle;\n",
       "    }\n",
       "\n",
       "    .dataframe tbody tr th {\n",
       "        vertical-align: top;\n",
       "    }\n",
       "\n",
       "    .dataframe thead th {\n",
       "        text-align: right;\n",
       "    }\n",
       "</style>\n",
       "<table border=\"1\" class=\"dataframe\">\n",
       "  <thead>\n",
       "    <tr style=\"text-align: right;\">\n",
       "      <th></th>\n",
       "      <th>B02</th>\n",
       "      <th>B03</th>\n",
       "      <th>B04</th>\n",
       "      <th>B12</th>\n",
       "      <th>B8A</th>\n",
       "      <th>NDWI</th>\n",
       "      <th>NDSI</th>\n",
       "      <th>sobel</th>\n",
       "      <th>sobel_v</th>\n",
       "      <th>sobel_h</th>\n",
       "      <th>autolovel</th>\n",
       "      <th>entropy</th>\n",
       "      <th>gabor</th>\n",
       "      <th>meijering</th>\n",
       "      <th>hessian</th>\n",
       "      <th>label</th>\n",
       "      <th>date</th>\n",
       "    </tr>\n",
       "  </thead>\n",
       "  <tbody>\n",
       "    <tr>\n",
       "      <th>0</th>\n",
       "      <td>0.26141497</td>\n",
       "      <td>0.23551764</td>\n",
       "      <td>0.22510988</td>\n",
       "      <td>0.03784423</td>\n",
       "      <td>0.13890143</td>\n",
       "      <td>0.10999281</td>\n",
       "      <td>0.6774404</td>\n",
       "      <td>0.09260082979042836</td>\n",
       "      <td>0.02138267457485199</td>\n",
       "      <td>-0.12919987738132477</td>\n",
       "      <td>233</td>\n",
       "      <td>3.169925001442312</td>\n",
       "      <td>0.0047499985</td>\n",
       "      <td>0.3015191853046417</td>\n",
       "      <td>1.4230362467060331e-05</td>\n",
       "      <td>0.0</td>\n",
       "      <td>2017_0808</td>\n",
       "    </tr>\n",
       "    <tr>\n",
       "      <th>1</th>\n",
       "      <td>0.27852216</td>\n",
       "      <td>0.24601696</td>\n",
       "      <td>0.2254151</td>\n",
       "      <td>0.034526717</td>\n",
       "      <td>0.14768498</td>\n",
       "      <td>0.11331239</td>\n",
       "      <td>0.7090177</td>\n",
       "      <td>0.09144073152056888</td>\n",
       "      <td>-0.02691514790058136</td>\n",
       "      <td>-0.1264847368001938</td>\n",
       "      <td>255</td>\n",
       "      <td>3.584962500721156</td>\n",
       "      <td>-0.0008789359</td>\n",
       "      <td>0.30393823981285095</td>\n",
       "      <td>1.4447043213294819e-05</td>\n",
       "      <td>0.0</td>\n",
       "      <td>2017_0808</td>\n",
       "    </tr>\n",
       "    <tr>\n",
       "      <th>2</th>\n",
       "      <td>0.23942436</td>\n",
       "      <td>0.23061897</td>\n",
       "      <td>0.19211635</td>\n",
       "      <td>0.03220753</td>\n",
       "      <td>0.14768498</td>\n",
       "      <td>0.15756834</td>\n",
       "      <td>0.70826507</td>\n",
       "      <td>0.10579217444078956</td>\n",
       "      <td>-0.0965014174580574</td>\n",
       "      <td>-0.11433041840791702</td>\n",
       "      <td>205</td>\n",
       "      <td>3.773557262275185</td>\n",
       "      <td>-0.009345735</td>\n",
       "      <td>0.3087622821331024</td>\n",
       "      <td>1.4779848243051674e-05</td>\n",
       "      <td>0.0</td>\n",
       "      <td>2017_0808</td>\n",
       "    </tr>\n",
       "    <tr>\n",
       "      <th>3</th>\n",
       "      <td>0.21061225</td>\n",
       "      <td>0.21100904</td>\n",
       "      <td>0.16811134</td>\n",
       "      <td>0.030994179</td>\n",
       "      <td>0.13717276</td>\n",
       "      <td>0.19263761</td>\n",
       "      <td>0.69420123</td>\n",
       "      <td>0.08582897947517328</td>\n",
       "      <td>-0.07438069581985474</td>\n",
       "      <td>-0.09592048823833466</td>\n",
       "      <td>163</td>\n",
       "      <td>3.906890595608518</td>\n",
       "      <td>-0.003611111</td>\n",
       "      <td>0.3157106935977936</td>\n",
       "      <td>1.565900856803637e-05</td>\n",
       "      <td>0.0</td>\n",
       "      <td>2017_0808</td>\n",
       "    </tr>\n",
       "    <tr>\n",
       "      <th>4</th>\n",
       "      <td>0.21342021</td>\n",
       "      <td>0.1934135</td>\n",
       "      <td>0.16811134</td>\n",
       "      <td>0.030395184</td>\n",
       "      <td>0.120633535</td>\n",
       "      <td>0.1911516</td>\n",
       "      <td>0.6746121</td>\n",
       "      <td>0.07606967464386061</td>\n",
       "      <td>-0.07535864412784576</td>\n",
       "      <td>-0.07677412033081055</td>\n",
       "      <td>184</td>\n",
       "      <td>3.7735572622751845</td>\n",
       "      <td>-0.002534106</td>\n",
       "      <td>0.32445454597473145</td>\n",
       "      <td>1.6672596757416613e-05</td>\n",
       "      <td>0.0</td>\n",
       "      <td>2017_0808</td>\n",
       "    </tr>\n",
       "    <tr>\n",
       "      <th>...</th>\n",
       "      <td>...</td>\n",
       "      <td>...</td>\n",
       "      <td>...</td>\n",
       "      <td>...</td>\n",
       "      <td>...</td>\n",
       "      <td>...</td>\n",
       "      <td>...</td>\n",
       "      <td>...</td>\n",
       "      <td>...</td>\n",
       "      <td>...</td>\n",
       "      <td>...</td>\n",
       "      <td>...</td>\n",
       "      <td>...</td>\n",
       "      <td>...</td>\n",
       "      <td>...</td>\n",
       "      <td>...</td>\n",
       "      <td>...</td>\n",
       "    </tr>\n",
       "    <tr>\n",
       "      <th>1790317</th>\n",
       "      <td>0.058794707</td>\n",
       "      <td>0.07390191</td>\n",
       "      <td>0.068349846</td>\n",
       "      <td>0.3943907</td>\n",
       "      <td>0.22957595</td>\n",
       "      <td>-0.49176863</td>\n",
       "      <td>-0.580293</td>\n",
       "      <td>0.006240013375847666</td>\n",
       "      <td>0.008735883980989456</td>\n",
       "      <td>0.0012489445507526398</td>\n",
       "      <td>204</td>\n",
       "      <td>2.3898980954642877</td>\n",
       "      <td>0.00084000826</td>\n",
       "      <td>0.027695847675204277</td>\n",
       "      <td>1.0865542066085254e-07</td>\n",
       "      <td>0</td>\n",
       "      <td>2021_2208</td>\n",
       "    </tr>\n",
       "    <tr>\n",
       "      <th>1790318</th>\n",
       "      <td>0.062408134</td>\n",
       "      <td>0.074300796</td>\n",
       "      <td>0.07177041</td>\n",
       "      <td>0.40119633</td>\n",
       "      <td>0.23142307</td>\n",
       "      <td>-0.4928024</td>\n",
       "      <td>-0.5832899</td>\n",
       "      <td>0.0034602107130466127</td>\n",
       "      <td>0.004858337342739105</td>\n",
       "      <td>-0.0005853846669197083</td>\n",
       "      <td>212</td>\n",
       "      <td>2.466247897312731</td>\n",
       "      <td>0.0001930684</td>\n",
       "      <td>0.021170705556869507</td>\n",
       "      <td>5.929918600600104e-08</td>\n",
       "      <td>0</td>\n",
       "      <td>2021_2208</td>\n",
       "    </tr>\n",
       "    <tr>\n",
       "      <th>1790319</th>\n",
       "      <td>0.06531724</td>\n",
       "      <td>0.07450024</td>\n",
       "      <td>0.07278277</td>\n",
       "      <td>0.413007</td>\n",
       "      <td>0.23881158</td>\n",
       "      <td>-0.47559133</td>\n",
       "      <td>-0.5906341</td>\n",
       "      <td>0.003506718128485959</td>\n",
       "      <td>0.004917945712804794</td>\n",
       "      <td>0.0006387121975421906</td>\n",
       "      <td>127</td>\n",
       "      <td>2.365596230357602</td>\n",
       "      <td>9.2949185e-06</td>\n",
       "      <td>0.023895900696516037</td>\n",
       "      <td>5.958640869607734e-08</td>\n",
       "      <td>0</td>\n",
       "      <td>2021_2208</td>\n",
       "    </tr>\n",
       "    <tr>\n",
       "      <th>1790320</th>\n",
       "      <td>0.06752205</td>\n",
       "      <td>0.07651003</td>\n",
       "      <td>0.074485384</td>\n",
       "      <td>0.42478713</td>\n",
       "      <td>0.24958126</td>\n",
       "      <td>-0.46310815</td>\n",
       "      <td>-0.5898479</td>\n",
       "      <td>0.009536186488116952</td>\n",
       "      <td>0.012569986283779144</td>\n",
       "      <td>0.004886016249656677</td>\n",
       "      <td>127</td>\n",
       "      <td>2.054585169337799</td>\n",
       "      <td>0.0011430254</td>\n",
       "      <td>0.01930847577750683</td>\n",
       "      <td>5.959808646593956e-08</td>\n",
       "      <td>0</td>\n",
       "      <td>2021_2208</td>\n",
       "    </tr>\n",
       "    <tr>\n",
       "      <th>1790321</th>\n",
       "      <td>0.06853258</td>\n",
       "      <td>0.08123533</td>\n",
       "      <td>0.07770654</td>\n",
       "      <td>0.43159276</td>\n",
       "      <td>0.261478</td>\n",
       "      <td>-0.46040693</td>\n",
       "      <td>-0.5745434</td>\n",
       "      <td>0.009065372022805258</td>\n",
       "      <td>0.008619192987680435</td>\n",
       "      <td>0.009490597993135452</td>\n",
       "      <td>255</td>\n",
       "      <td>2.1971597234241496</td>\n",
       "      <td>0.0009744125</td>\n",
       "      <td>0.013246801681816578</td>\n",
       "      <td>1.0</td>\n",
       "      <td>0</td>\n",
       "      <td>2021_2208</td>\n",
       "    </tr>\n",
       "  </tbody>\n",
       "</table>\n",
       "<p>1790322 rows × 17 columns</p>\n",
       "</div>"
      ],
      "text/plain": [
       "                 B02          B03          B04          B12          B8A  \\\n",
       "0         0.26141497   0.23551764   0.22510988   0.03784423   0.13890143   \n",
       "1         0.27852216   0.24601696    0.2254151  0.034526717   0.14768498   \n",
       "2         0.23942436   0.23061897   0.19211635   0.03220753   0.14768498   \n",
       "3         0.21061225   0.21100904   0.16811134  0.030994179   0.13717276   \n",
       "4         0.21342021    0.1934135   0.16811134  0.030395184  0.120633535   \n",
       "...              ...          ...          ...          ...          ...   \n",
       "1790317  0.058794707   0.07390191  0.068349846    0.3943907   0.22957595   \n",
       "1790318  0.062408134  0.074300796   0.07177041   0.40119633   0.23142307   \n",
       "1790319   0.06531724   0.07450024   0.07278277     0.413007   0.23881158   \n",
       "1790320   0.06752205   0.07651003  0.074485384   0.42478713   0.24958126   \n",
       "1790321   0.06853258   0.08123533   0.07770654   0.43159276     0.261478   \n",
       "\n",
       "                NDWI        NDSI                  sobel               sobel_v  \\\n",
       "0         0.10999281   0.6774404    0.09260082979042836   0.02138267457485199   \n",
       "1         0.11331239   0.7090177    0.09144073152056888  -0.02691514790058136   \n",
       "2         0.15756834  0.70826507    0.10579217444078956   -0.0965014174580574   \n",
       "3         0.19263761  0.69420123    0.08582897947517328  -0.07438069581985474   \n",
       "4          0.1911516   0.6746121    0.07606967464386061  -0.07535864412784576   \n",
       "...              ...         ...                    ...                   ...   \n",
       "1790317  -0.49176863   -0.580293   0.006240013375847666  0.008735883980989456   \n",
       "1790318   -0.4928024  -0.5832899  0.0034602107130466127  0.004858337342739105   \n",
       "1790319  -0.47559133  -0.5906341   0.003506718128485959  0.004917945712804794   \n",
       "1790320  -0.46310815  -0.5898479   0.009536186488116952  0.012569986283779144   \n",
       "1790321  -0.46040693  -0.5745434   0.009065372022805258  0.008619192987680435   \n",
       "\n",
       "                        sobel_h autolovel             entropy          gabor  \\\n",
       "0          -0.12919987738132477       233   3.169925001442312   0.0047499985   \n",
       "1           -0.1264847368001938       255   3.584962500721156  -0.0008789359   \n",
       "2          -0.11433041840791702       205   3.773557262275185   -0.009345735   \n",
       "3          -0.09592048823833466       163   3.906890595608518   -0.003611111   \n",
       "4          -0.07677412033081055       184  3.7735572622751845   -0.002534106   \n",
       "...                         ...       ...                 ...            ...   \n",
       "1790317   0.0012489445507526398       204  2.3898980954642877  0.00084000826   \n",
       "1790318  -0.0005853846669197083       212   2.466247897312731   0.0001930684   \n",
       "1790319   0.0006387121975421906       127   2.365596230357602  9.2949185e-06   \n",
       "1790320    0.004886016249656677       127   2.054585169337799   0.0011430254   \n",
       "1790321    0.009490597993135452       255  2.1971597234241496   0.0009744125   \n",
       "\n",
       "                    meijering                 hessian label       date  \n",
       "0          0.3015191853046417  1.4230362467060331e-05   0.0  2017_0808  \n",
       "1         0.30393823981285095  1.4447043213294819e-05   0.0  2017_0808  \n",
       "2          0.3087622821331024  1.4779848243051674e-05   0.0  2017_0808  \n",
       "3          0.3157106935977936   1.565900856803637e-05   0.0  2017_0808  \n",
       "4         0.32445454597473145  1.6672596757416613e-05   0.0  2017_0808  \n",
       "...                       ...                     ...   ...        ...  \n",
       "1790317  0.027695847675204277  1.0865542066085254e-07     0  2021_2208  \n",
       "1790318  0.021170705556869507   5.929918600600104e-08     0  2021_2208  \n",
       "1790319  0.023895900696516037   5.958640869607734e-08     0  2021_2208  \n",
       "1790320   0.01930847577750683   5.959808646593956e-08     0  2021_2208  \n",
       "1790321  0.013246801681816578                     1.0     0  2021_2208  \n",
       "\n",
       "[1790322 rows x 17 columns]"
      ]
     },
     "execution_count": 23,
     "metadata": {},
     "output_type": "execute_result"
    }
   ],
   "source": [
    "df_test = df_test.reset_index(drop=True)\n",
    "df_train = df_train.reset_index(drop=True)\n",
    "df_test"
   ]
  },
  {
   "cell_type": "markdown",
   "id": "f6b528fc",
   "metadata": {},
   "source": [
    "# 2. Train a Gradient Boosting classifier"
   ]
  },
  {
   "cell_type": "code",
   "execution_count": 24,
   "id": "d8b99161",
   "metadata": {},
   "outputs": [
    {
     "data": {
      "text/plain": [
       "RandomForestClassifier(random_state=10)"
      ]
     },
     "execution_count": 24,
     "metadata": {},
     "output_type": "execute_result"
    }
   ],
   "source": [
    "classifier = GradientBoostingClassifier(random_state=10)\n",
    "classifier.fit(X=df_train.iloc[:,:15], y=df_train['label'])"
   ]
  },
  {
   "cell_type": "markdown",
   "id": "bea40998",
   "metadata": {},
   "source": [
    "# 3. Predict on test set"
   ]
  },
  {
   "cell_type": "code",
   "execution_count": 25,
   "id": "cf40f7a8",
   "metadata": {},
   "outputs": [],
   "source": [
    "predictions = classifier.predict(df_test.iloc[:, :15])"
   ]
  },
  {
   "cell_type": "code",
   "execution_count": 26,
   "id": "3e45ee44",
   "metadata": {},
   "outputs": [],
   "source": [
    "img_2017 = predictions[0:895161].reshape((1303, 687)).astype(np.float32)\n",
    "img_2021 = predictions[895161:].reshape((1303, 687)).astype(np.float32)"
   ]
  },
  {
   "cell_type": "code",
   "execution_count": 27,
   "id": "2a2a405c",
   "metadata": {},
   "outputs": [
    {
     "data": {
      "text/plain": [
       "<matplotlib.image.AxesImage at 0x7fb3bfb8f5d0>"
      ]
     },
     "execution_count": 27,
     "metadata": {},
     "output_type": "execute_result"
    },
    {
     "data": {
      "image/png": "[encoded data removed]",
      "text/plain": [
       "<Figure size 432x288 with 2 Axes>"
      ]
     },
     "metadata": {
      "needs_background": "light"
     },
     "output_type": "display_data"
    }
   ],
   "source": [
    "# 2017\n",
    "\n",
    "GT_PATH = INPUT_DIR + 'gt/binary_gt_2017_0808.npy'\n",
    "gt_2017 = np.load(GT_PATH)\n",
    "\n",
    "fig, (ax1, ax2) = plt.subplots(1, 2)\n",
    "fig.suptitle('Comparing predicted vs truth 2017')\n",
    "\n",
    "ax1.imshow(np.asarray(img_2017), cmap=plt.cm.gray)\n",
    "ax2.imshow(gt_2017, cmap=plt.cm.gray)"
   ]
  },
  {
   "cell_type": "code",
   "execution_count": 28,
   "id": "67de27a0",
   "metadata": {},
   "outputs": [
    {
     "data": {
      "text/plain": [
       "<matplotlib.image.AxesImage at 0x7fb3bfb99610>"
      ]
     },
     "execution_count": 28,
     "metadata": {},
     "output_type": "execute_result"
    },
    {
     "data": {
      "image/png": "[encoded data removed]",
      "text/plain": [
       "<Figure size 432x288 with 2 Axes>"
      ]
     },
     "metadata": {
      "needs_background": "light"
     },
     "output_type": "display_data"
    }
   ],
   "source": [
    "# 2021\n",
    "\n",
    "GT_PATH = INPUT_DIR + 'gt/binary_gt_2021_2208.npy'\n",
    "gt_2021 = np.load(GT_PATH)\n",
    "\n",
    "fig, (ax1, ax2) = plt.subplots(1, 2)\n",
    "fig.suptitle('Comparing predicted vs truth 2021')\n",
    "\n",
    "ax1.imshow(np.asarray(img_2021), cmap=plt.cm.gray)\n",
    "ax2.imshow(gt_2021, cmap=plt.cm.gray)"
   ]
  },
  {
   "cell_type": "markdown",
   "id": "3da28c82",
   "metadata": {},
   "source": [
    "# 4. Model evaluation"
   ]
  },
  {
   "cell_type": "code",
   "execution_count": 56,
   "id": "affc9605",
   "metadata": {},
   "outputs": [],
   "source": [
    "def plot_confusion_matrix(conf_matrix):\n",
    "    fig, ax = plt.subplots(figsize=(5, 5))\n",
    "    ax.matshow(conf_matrix, cmap=plt.cm.Blues, alpha=0.5)\n",
    "    for i in range(conf_matrix.shape[0]):\n",
    "        for j in range(conf_matrix.shape[1]):\n",
    "            ax.text(x=j, y=i,s=conf_matrix[i, j], va='center', ha='center', size='x-large')\n",
    "    \n",
    "    plt.xlabel('Predictions', fontsize=18)\n",
    "    plt.ylabel('Ground Truth', fontsize=18)\n",
    "    plt.title('Confusion Matrix', fontsize=18)\n",
    "    plt.show()"
   ]
  },
  {
   "cell_type": "code",
   "execution_count": 57,
   "id": "515fe2c7",
   "metadata": {},
   "outputs": [
    {
     "data": {
      "image/png": "[encoded data removed]",
      "text/plain": [
       "<Figure size 360x360 with 1 Axes>"
      ]
     },
     "metadata": {
      "needs_background": "light"
     },
     "output_type": "display_data"
    }
   ],
   "source": [
    "conf_matrix = confusion_matrix(df_test['label'].astype(np.float16), predictions.astype(np.float16))\n",
    "plot_confusion_matrix(conf_matrix)"
   ]
  },
  {
   "cell_type": "markdown",
   "id": "8dbee287",
   "metadata": {},
   "source": [
    "### Other metrics"
   ]
  },
  {
   "cell_type": "code",
   "execution_count": 39,
   "id": "061d118a",
   "metadata": {},
   "outputs": [
    {
     "data": {
      "text/plain": [
       "\"\\nacc = accuracy_score(df_test['label'], predictions)\\nrec = recall_score(df_test['label'], predictions, average='micro')\\nprec =  precision_score(df_test['label'], predictions, average='micro')\\nf1 = f1_score(df_test['label'], predictions, average='micro') # Need to fix this one\\n#area_uc = roc_auc_score(df_test['label'], predictions, average='micro')\\n\""
      ]
     },
     "execution_count": 39,
     "metadata": {},
     "output_type": "execute_result"
    }
   ],
   "source": [
    "def evaluate_conf(conf_matrix):\n",
    "    \"\"\"\n",
    "    Input: confusion matrix\n",
    "    =============\n",
    "    Output: metrics\n",
    "    \"\"\"\n",
    "    \n",
    "    TP = conf_matrix[1,1]\n",
    "    FP = conf_matrix[0,1]\n",
    "    TN = conf_matrix[0,0]\n",
    "    FN = conf_matrix[1,0]\n",
    "    \n",
    "    acc = TP/(FP+TP)\n",
    "    rec = TP/(FN+TP)\n",
    "    prec = (TP + TN)/ (TP + FN + TN + FP)\n",
    "    f1 = 2*prec*rec/ (prec+rec)\n",
    "    \n",
    "    print(\"Accuracy: \", acc, \n",
    "     \"\\nPrecision: \", prec, \n",
    "     \"\\nRecall: \", rec,\n",
    "     \"\\nF1: \", f1)    "
   ]
  },
  {
   "cell_type": "code",
   "execution_count": 40,
   "id": "d3e02ec9",
   "metadata": {},
   "outputs": [
    {
     "name": "stdout",
     "output_type": "stream",
     "text": [
      "Accuracy:  0.9391659457360645 \n",
      "Precision:  0.9672228085443343 \n",
      "Recall:  0.9730501309205373 \n",
      "F1:  0.9701277189826353\n"
     ]
    }
   ],
   "source": [
    "evaluate_conf(conf_matrix)"
   ]
  },
  {
   "cell_type": "code",
   "execution_count": 48,
   "id": "c9c0098b",
   "metadata": {},
   "outputs": [
    {
     "name": "stdout",
     "output_type": "stream",
     "text": [
      "Accuracy:  0.9798131285880417 \n",
      "Precision:  0.9522393686587496 \n",
      "Recall:  0.9769445784669859 \n",
      "F1:  0.9644337855910629 \n",
      "Area under ROC:  0.9789370659004596\n"
     ]
    }
   ],
   "source": [
    "# With sklearn\n",
    "\n",
    "acc = accuracy_score(df_test['label'].astype(np.float16), predictions.astype(np.float16))\n",
    "rec = recall_score(df_test['label'].astype(np.float16), predictions.astype(np.float16))\n",
    "prec =  precision_score(df_test['label'].astype(np.float16), predictions.astype(np.float16))\n",
    "f1 = f1_score(df_test['label'].astype(np.float16), predictions.astype(np.float16)) \n",
    "area_uc = roc_auc_score(df_test['label'].astype(np.float16), predictions.astype(np.float16))\n",
    "\n",
    "print(\"Accuracy: \", acc, \n",
    "     \"\\nPrecision: \", prec, \n",
    "     \"\\nRecall: \", rec,\n",
    "     \"\\nF1: \", f1, \n",
    "     \"\\nArea under ROC: \", area_uc)    "
   ]
  },
  {
   "cell_type": "markdown",
   "id": "423830f9",
   "metadata": {},
   "source": [
    "### Feature importance"
   ]
  },
  {
   "cell_type": "code",
   "execution_count": 58,
   "id": "d1fef454",
   "metadata": {},
   "outputs": [
    {
     "name": "stdout",
     "output_type": "stream",
     "text": [
      "NDSI         0.171872\n",
      "B12          0.147564\n",
      "NDWI         0.109625\n",
      "B8A          0.092654\n",
      "B03          0.090465\n",
      "B02          0.090407\n",
      "B04          0.081894\n",
      "meijering    0.043550\n",
      "entropy      0.037008\n",
      "sobel        0.031059\n",
      "autolovel    0.022729\n",
      "hessian      0.022151\n",
      "sobel_h      0.021435\n",
      "sobel_v      0.019038\n",
      "gabor        0.018547\n",
      "dtype: float64\n"
     ]
    },
    {
     "data": {
      "image/png": "[encoded data removed]",
      "text/plain": [
       "<Figure size 720x720 with 1 Axes>"
      ]
     },
     "metadata": {
      "needs_background": "light"
     },
     "output_type": "display_data"
    }
   ],
   "source": [
    "feature_scores = pd.Series(classifier.feature_importances_, index=df_train.iloc[:,:15].columns).sort_values(ascending=False)\n",
    "print(feature_scores)\n",
    "\n",
    "# Barplot\n",
    "f, ax = plt.subplots(figsize=(10, 10))\n",
    "ax = sns.barplot(x=feature_scores, y=feature_scores.index)\n",
    "ax.set_title(\"Visualize feature scores of the features\", size=15)\n",
    "ax.set_yticklabels(feature_scores.index, size=15)\n",
    "ax.set_xlabel(\"Feature importance score\")\n",
    "ax.set_ylabel(\"Features\")\n",
    "plt.show()"
   ]
  },
  {
   "cell_type": "code",
   "execution_count": null,
   "id": "8fe59122",
   "metadata": {},
   "outputs": [],
   "source": [
    "# realtive feature importance\n",
    "\n",
    "feature_importance = classifier.feature_importances_\n",
    "# make importances relative to max importance\n",
    "feature_importance = 100.0 * (feature_importance / feature_importance.max())\n",
    "sorted_idx = np.argsort(feature_importance)\n",
    "pos = np.arange(sorted_idx.shape[0]) + .5\n",
    "# plt.subplot(1, 2, 2)\n",
    "plt.figure(figsize=(8, 18))\n",
    "plt.barh(pos, feature_importance[sorted_idx], align='center')\n",
    "plt.yticks(pos, tr_x.keys()[sorted_idx])\n",
    "plt.xlabel('Relative Importance')\n",
    "plt.title('Variable Importance')\n",
    "plt.show()"
   ]
  },
  {
   "cell_type": "markdown",
   "id": "8e8462fc",
   "metadata": {},
   "source": [
    "# 5. Hyperparameter tuning"
   ]
  },
  {
   "cell_type": "code",
   "execution_count": 62,
   "id": "1549e34f",
   "metadata": {},
   "outputs": [],
   "source": [
    "# List of paramaters to evaluate in the validation set\n",
    "n_estimators_values = [5,50,250,500]\n",
    "max_depth_values = [1,3,5,7,9]\n",
    "learning_rate_values = [0.01,0.1,1,10,100]"
   ]
  },
  {
   "cell_type": "code",
   "execution_count": 63,
   "id": "42dc769d",
   "metadata": {},
   "outputs": [],
   "source": [
    "# Define a validation set (subset of train set)\n",
    "val_dates = ['2018_2907','2020_0609']\n",
    "df_val = df_train[df_train['date'].isin(val_dates)]\n",
    "df_train2 = df_train[~df_train['date'].isin(val_dates)]"
   ]
  },
  {
   "cell_type": "code",
   "execution_count": null,
   "id": "ed2f8ec1",
   "metadata": {},
   "outputs": [
    {
     "name": "stdout",
     "output_type": "stream",
     "text": [
      "eval n_estimators_val 20 max_depth_val 5 max_feat auto\n"
     ]
    }
   ],
   "source": [
    "# Initialise best_val_accuracy, best_depth and best_n_estimators\n",
    "best_val_accuracy = -1\n",
    "best_depth = None\n",
    "best_n_estimators = None\n",
    "best_rate = None\n",
    "\n",
    "for n_estimators_val in n_estimators_values:\n",
    "    for max_depth_val in max_depth_values:\n",
    "        for rate in learning_rate_values:\n",
    "            \n",
    "            print(\"eval n_estimators_val: {} max_depth_val: {} rate: {}\".format(n_estimators_val, max_depth_val, rate))\n",
    "            classifier = GradientBoostingClassifier(random_state=10, n_estimators=n_estimators_val, max_depth=max_depth_val, learning_rate=rate)\n",
    "            classifier.fit(X=df_train2.iloc[:,:15], y=df_train2['label'])\n",
    "            val_preds = classifier.predict(df_val.iloc[:, :15])\n",
    "            val_acc = accuracy_score(df_val['label'].astype(np.float16), predictions.astype(np.float16))\n",
    "\n",
    "            if val_acc > best_val_accuracy:\n",
    "                best_val_accuracy = val_acc\n",
    "                best_depth = max_depth_val\n",
    "                best_n_estimators = n_estimators_val\n",
    "                best_rate = rate\n",
    "                print(val_acc)\n",
    "            \n",
    "print(\"Best max depth: \" +str(best_depth))\n",
    "print(\"Best number estimators: \"+str(best_n_estimators))  \n",
    "print(\"Best rate: \"+str(best_rate))  "
   ]
  },
  {
   "cell_type": "markdown",
   "id": "5288a034",
   "metadata": {},
   "source": [
    "# 6. Train final GB model & evaluate on test set"
   ]
  },
  {
   "cell_type": "code",
   "execution_count": null,
   "id": "ed43425a",
   "metadata": {},
   "outputs": [],
   "source": [
    "gb_clf = GradientBoostingClassifier(random_state=10, n_estimators=best_n_estimators, max_depth=best_depth)\n",
    "gb_clf.fit(X=df_train.iloc[:,:15], y=df_train['label'])"
   ]
  },
  {
   "cell_type": "code",
   "execution_count": null,
   "id": "83b71b13",
   "metadata": {},
   "outputs": [],
   "source": [
    "# compute metrics"
   ]
  },
  {
   "cell_type": "markdown",
   "id": "7e4d4265",
   "metadata": {},
   "source": [
    "# 7. Compute ice melting & view results"
   ]
  },
  {
   "cell_type": "code",
   "execution_count": null,
   "id": "301cac84",
   "metadata": {},
   "outputs": [],
   "source": []
  }
 ],
 "metadata": {
  "kernelspec": {
   "display_name": "Python 3 (ipykernel)",
   "language": "python",
   "name": "python3"
  },
  "language_info": {
   "codemirror_mode": {
    "name": "ipython",
    "version": 3
   },
   "file_extension": ".py",
   "mimetype": "text/x-python",
   "name": "python",
   "nbconvert_exporter": "python",
   "pygments_lexer": "ipython3",
   "version": "3.7.11"
  }
 },
 "nbformat": 4,
 "nbformat_minor": 5
}
